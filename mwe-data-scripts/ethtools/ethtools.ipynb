{
 "cells": [
  {
   "cell_type": "markdown",
   "metadata": {},
   "source": [
    "# Fetch the Ethereum on-chain data via ethtools package\n",
    "\n",
    "- Author: Yichen Luo\n",
    "- Date: 2024-09-30"
   ]
  },
  {
   "cell_type": "markdown",
   "metadata": {},
   "source": [
    "## Dependencies\n",
    "\n",
    "- Install the `ethtools` library using the following command:\n",
    "```bash\n",
    "pip install ethereum-tools\n",
    "pip install web3==5.28.0\n",
    "```"
   ]
  },
  {
   "cell_type": "code",
   "execution_count": 5,
   "metadata": {},
   "outputs": [],
   "source": [
    "import json\n",
    "from subprocess import PIPE, run"
   ]
  },
  {
   "cell_type": "markdown",
   "metadata": {},
   "source": [
    "## Connect to an Ethereum node: Infura\n",
    "\n",
    "- Infura is a popular Ethereum node provider. You can sign up for a free account at [Infura](https://www.infura.io/).\n",
    "\n",
    "<img src=\"./fig/config.png\" width=\"1400\">\n",
    "\n",
    "- Copy the api key and save it in a secure place\n",
    "\n",
    "<img src=\"./fig/api.png\" width=\"1400\">"
   ]
  },
  {
   "cell_type": "code",
   "execution_count": 6,
   "metadata": {},
   "outputs": [],
   "source": [
    "# Remember to set your Infura API key\n",
    "INFURA_API_KEY = \"YOUR_INFURA_API_KEY\"\n",
    "infuraurl = f'https://mainnet.infura.io/v3/{INFURA_API_KEY}'"
   ]
  },
  {
   "cell_type": "markdown",
   "metadata": {},
   "source": [
    "## Check the contract address of contract of interest\n",
    "\n",
    "Let's take the Compound CToken contract as an example. Compound is a decentralized, blockchain-based protocol that allows you to lend and borrow cryptocurrencies. The Compound protocol is implemented as a set of Ethereum smart contracts. The Compound website is [here](https://compound.finance/).\n",
    "\n",
    "- Step 1: Use your wallet to interact with the Compound protocol. \n",
    "\n",
    "<img src=\"./fig/compound.png\" width=\"1400\">\n",
    "\n",
    "- Step 2: Go to the market page and find the asset of interest. For example, we are interested in the cUSDC market.\n",
    " \n",
    "<img src=\"./fig/market.png\" width=\"1400\">\n",
    "\n",
    "- Step 3: Click the `View on Etherscan` button to find the contract address.\n",
    "\n",
    "<img src=\"./fig/market_data.png\" width=\"1400\">\n",
    "\n",
    "- Step 4: Copy the contract address and click the `Contract` button.\n",
    "\n",
    "<img src=\"./fig/etherscan.png\" width=\"1400\">\n",
    "\n",
    "- Step 5: Check whether there is an implementation contract. If there is, click the implementation contract.\n",
    "\n",
    "<img src=\"./fig/implementation.png\" width=\"1400\">\n",
    "\n",
    "- Step 6: Download the ABI in Json for the implementation contract (if there is an implementation contract. if not, abi of original contract).\n",
    "\n",
    "<img src=\"./fig/abi.png\" width=\"1400\">"
   ]
  },
  {
   "cell_type": "code",
   "execution_count": 7,
   "metadata": {},
   "outputs": [],
   "source": [
    "# address of the original contract\n",
    "address = \"0xc3d688B66703497DAA19211EEdff47f25384cdc3\""
   ]
  },
  {
   "cell_type": "markdown",
   "metadata": {},
   "source": [
    "- Step 7: Back to the original contract page and click the `Read as Proxy` button to find the read-only function of interest.\n",
    "\n",
    "<img src=\"./fig/func.png\" width=\"1400\">"
   ]
  },
  {
   "cell_type": "markdown",
   "metadata": {},
   "source": [
    "- Step 8: Construct the function using web3 and ethtools."
   ]
  },
  {
   "cell_type": "code",
   "execution_count": 8,
   "metadata": {},
   "outputs": [
    {
     "name": "stdout",
     "output_type": "stream",
     "text": [
      "eth-tools call-contract --abi abi.json --web3-uri https://mainnet.infura.io/v3/5434aa4866964dc6afc026cac5e7e20a -f getReserves 0xc3d688B66703497DAA19211EEdff47f25384cdc3\n",
      "{'block': 20877936, 'result': 9880443214153}\n"
     ]
    }
   ],
   "source": [
    "rootcommand = 'eth-tools call-contract'\n",
    "\n",
    "def get_contract_output(\n",
    "    addr: str, func: str, abipath: str, endpoint: str = infuraurl\n",
    "):\n",
    "    \"\"\"\n",
    "    Function to call a contract function and return the output\n",
    "\n",
    "    Args:\n",
    "        addr (str): Address of the contract\n",
    "        func (str): Function to call\n",
    "        abipath (str): Path to the ABI file\n",
    "        endpoint (str): URL of the Ethereum node\n",
    "\n",
    "    Returns:\n",
    "        dict: Output of the contract function\n",
    "    \"\"\"\n",
    "    command = rootcommand + ' --abi ' + abipath + \\\n",
    "        ' --web3-uri ' + endpoint + ' -f ' + func + ' ' + addr\n",
    "    print(command)\n",
    "\n",
    "    output = run(command, shell=True, stdout=PIPE).stdout\n",
    "    return json.loads(output)\n",
    "\n",
    "# ABI file for the contract\n",
    "ABIDIR = 'abi.json'\n",
    "\n",
    "on_chain_data = get_contract_output(\n",
    "    addr=address, func='getReserves', abipath=ABIDIR)\n",
    "print(on_chain_data)"
   ]
  },
  {
   "cell_type": "markdown",
   "metadata": {},
   "source": [
    "This number is consistent with the data on the Compound website but in different notation.\n",
    "\n",
    "<img src=\"./fig/data.png\" width=\"1400\">"
   ]
  }
 ],
 "metadata": {
  "kernelspec": {
   "display_name": "venv",
   "language": "python",
   "name": "python3"
  },
  "language_info": {
   "codemirror_mode": {
    "name": "ipython",
    "version": 3
   },
   "file_extension": ".py",
   "mimetype": "text/x-python",
   "name": "python",
   "nbconvert_exporter": "python",
   "pygments_lexer": "ipython3",
   "version": "3.10.9"
  }
 },
 "nbformat": 4,
 "nbformat_minor": 2
}
