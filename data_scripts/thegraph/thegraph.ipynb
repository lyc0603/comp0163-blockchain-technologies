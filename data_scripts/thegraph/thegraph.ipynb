{
 "cells": [
  {
   "cell_type": "markdown",
   "metadata": {},
   "source": [
    "# Fetch on-chain data via The Graph"
   ]
  },
  {
   "cell_type": "markdown",
   "metadata": {},
   "source": [
    "# Dependencies\n",
    "\n",
    "```bash\n",
    "\n",
    "pip install requests\n",
    "\n",
    "```"
   ]
  },
  {
   "cell_type": "code",
   "execution_count": 1,
   "metadata": {},
   "outputs": [],
   "source": [
    "from pprint import pprint\n",
    "import requests"
   ]
  },
  {
   "cell_type": "markdown",
   "metadata": {},
   "source": [
    "## The Graph\n",
    "\n",
    "The Graph is a decentralized protocol for indexing and querying data from blockchains, starting with Ethereum. What that means: it is an easier way to retrieve specific data from the blockchain, within the ethos of web3, with the advantages of decentralization and reliability.\n",
    "\n",
    "## Aave V2\n",
    "Aave is a decentralized money market protocol that allows users to lend and borrow a wide range of cryptocurrencies.\n",
    "\n",
    "- [Subgraph for Aave V2](https://thegraph.com/explorer/subgraphs/8wR23o1zkS4gpLqLNU4kG3JHYVucqGyopL5utGxP2q1N?view=Query&chain=arbitrum-one)\n",
    "\n",
    "Try out the query in the explorer to see what data you can get.\n",
    "\n",
    "<img src=\"./fig/playground.png\" width=\"1400\">"
   ]
  },
  {
   "cell_type": "code",
   "execution_count": 2,
   "metadata": {},
   "outputs": [
    {
     "name": "stdout",
     "output_type": "stream",
     "text": [
      "{'data': {'contractToPoolMappings': [{'id': '0x00ad8ebf64f141f1c81e9f8f792d3d1631c6c684',\n",
      "                                      'pool': {'id': '0xb53c1a33016b2dc2ff3653530bff1848a515c8c5'}},\n",
      "                                     {'id': '0x01c0eb1f8c6f1c1bf74ae028697ce7aa2a8b0e92',\n",
      "                                      'pool': {'id': '0xb53c1a33016b2dc2ff3653530bff1848a515c8c5'}},\n",
      "                                     {'id': '0x028171bca77440897b824ca71d1c56cac55b68a3',\n",
      "                                      'pool': {'id': '0xb53c1a33016b2dc2ff3653530bff1848a515c8c5'}},\n",
      "                                     {'id': '0x02aaeb4c7736177242ee0f71f6f6a0f057aba87d',\n",
      "                                      'pool': {'id': '0xacc030ef66f9dfeae9cbb0cd1b25654b82cfa8d5'}},\n",
      "                                     {'id': '0x030ba81f1c18d280636f32af80b9aad02cf0854e',\n",
      "                                      'pool': {'id': '0xb53c1a33016b2dc2ff3653530bff1848a515c8c5'}}],\n",
      "          'protocols': [{'id': '1',\n",
      "                         'pools': [{'id': '0xacc030ef66f9dfeae9cbb0cd1b25654b82cfa8d5'},\n",
      "                                   {'id': '0xb53c1a33016b2dc2ff3653530bff1848a515c8c5'}]}]}}\n"
     ]
    }
   ],
   "source": [
    "API_KEY = \"YOUR_API_KEY\"\n",
    "url = 'https://gateway.thegraph.com/api/subgraphs/id/8wR23o1zkS4gpLqLNU4kG3JHYVucqGyopL5utGxP2q1N'\n",
    "\n",
    "headers = {\n",
    "    \"Authorization\": f\"Bearer {API_KEY}\"\n",
    "}\n",
    "\n",
    "data = {\n",
    "    \"query\": \"\"\"\n",
    "    {\n",
    "      protocols(first: 5) {\n",
    "        id\n",
    "        pools {\n",
    "          id\n",
    "        }\n",
    "      }\n",
    "      contractToPoolMappings(first: 5) {\n",
    "        id\n",
    "        pool {\n",
    "          id\n",
    "        }\n",
    "      }\n",
    "    }\n",
    "    \"\"\"\n",
    "}\n",
    "\n",
    "response = requests.post(url, headers=headers, json=data)\n",
    "\n",
    "pprint(response.json())"
   ]
  }
 ],
 "metadata": {
  "kernelspec": {
   "display_name": "venv",
   "language": "python",
   "name": "python3"
  },
  "language_info": {
   "codemirror_mode": {
    "name": "ipython",
    "version": 3
   },
   "file_extension": ".py",
   "mimetype": "text/x-python",
   "name": "python",
   "nbconvert_exporter": "python",
   "pygments_lexer": "ipython3",
   "version": "3.12.10"
  }
 },
 "nbformat": 4,
 "nbformat_minor": 2
}
