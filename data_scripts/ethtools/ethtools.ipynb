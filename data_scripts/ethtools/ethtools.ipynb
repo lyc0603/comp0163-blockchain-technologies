{
 "cells": [
  {
   "cell_type": "markdown",
   "metadata": {},
   "source": [
    "# Fetch the Ethereum on-chain data via web3 package\n",
    "\n",
    "- Author: Yichen Luo\n",
    "- Date: 2024-09-30"
   ]
  },
  {
   "cell_type": "markdown",
   "metadata": {},
   "source": [
    "## Dependencies\n",
    "\n",
    "- Install the `web3` library using the following command:\n",
    "```bash\n",
    "pip install web3\n",
    "```"
   ]
  },
  {
   "cell_type": "code",
   "execution_count": 1,
   "metadata": {},
   "outputs": [],
   "source": [
    "import json\n",
    "from typing import Any, Optional\n",
    "\n",
    "from web3 import HTTPProvider, Web3\n",
    "\n",
    "from environ.constants import DATA"
   ]
  },
  {
   "cell_type": "markdown",
   "metadata": {},
   "source": [
    "## Connect to an Ethereum node: Infura\n",
    "\n",
    "- Infura is a popular Ethereum node provider. You can sign up for a free account at [Infura](https://www.infura.io/).\n",
    "\n",
    "<img src=\"./fig/config.png\" width=\"1400\">\n",
    "\n",
    "- Copy the api key and save it in a secure place\n",
    "\n",
    "<img src=\"./fig/api.png\" width=\"1400\">"
   ]
  },
  {
   "cell_type": "code",
   "execution_count": 3,
   "metadata": {},
   "outputs": [],
   "source": [
    "# Remember to set your Infura API key\n",
    "INFURA_API_KEY = \"YOUR_API_KEY\"\n",
    "infuraurl = f'https://mainnet.infura.io/v3/{INFURA_API_KEY}'\n",
    "w3 = Web3(HTTPProvider(infuraurl))"
   ]
  },
  {
   "cell_type": "markdown",
   "metadata": {},
   "source": [
    "## Check the contract address of contract of interest\n",
    "\n",
    "Let's take the Compound CToken contract as an example. Compound is a decentralized, blockchain-based protocol that allows you to lend and borrow cryptocurrencies. The Compound protocol is implemented as a set of Ethereum smart contracts. The Compound website is [here](https://compound.finance/).\n",
    "\n",
    "- Step 1: Use your wallet to interact with the Compound protocol. \n",
    "\n",
    "<img src=\"./fig/compound.png\" width=\"1400\">\n",
    "\n",
    "- Step 2: Go to the market page and find the asset of interest. For example, we are interested in the cUSDC market.\n",
    " \n",
    "<img src=\"./fig/market.png\" width=\"1400\">\n",
    "\n",
    "- Step 3: Click the `View on Etherscan` button to find the contract address.\n",
    "\n",
    "<img src=\"./fig/market_data.png\" width=\"1400\">\n",
    "\n",
    "- Step 4: Copy the contract address and click the `Contract` button.\n",
    "\n",
    "<img src=\"./fig/etherscan.png\" width=\"1400\">\n",
    "\n",
    "- Step 5: Check whether there is an implementation contract. If there is, click the implementation contract.\n",
    "\n",
    "<img src=\"./fig/implementation.png\" width=\"1400\">\n",
    "\n",
    "- Step 6: Download the ABI in Json for the implementation contract (if there is an implementation contract. if not, abi of original contract).\n",
    "\n",
    "<img src=\"./fig/abi.png\" width=\"1400\">"
   ]
  },
  {
   "cell_type": "code",
   "execution_count": 4,
   "metadata": {},
   "outputs": [],
   "source": [
    "# address of the original contract\n",
    "address = \"0xc3d688B66703497DAA19211EEdff47f25384cdc3\""
   ]
  },
  {
   "cell_type": "markdown",
   "metadata": {},
   "source": [
    "- Step 7: Back to the original contract page and click the `Read as Proxy` button to find the read-only function of interest.\n",
    "\n",
    "<img src=\"./fig/func.png\" width=\"1400\">"
   ]
  },
  {
   "cell_type": "markdown",
   "metadata": {},
   "source": [
    "- Step 8: Construct the function using web3 and ethtools."
   ]
  },
  {
   "cell_type": "code",
   "execution_count": 5,
   "metadata": {},
   "outputs": [],
   "source": [
    "class FunctionCaller:\n",
    "    \"\"\"\n",
    "    Class to call functions from the smart contract\n",
    "    \"\"\"\n",
    "\n",
    "    def __init__(self, contract_address: str, w3: Web3, abi_path: str):\n",
    "        self.contract_address = contract_address\n",
    "        self.w3 = w3\n",
    "        self.abi_path = abi_path\n",
    "\n",
    "    def _load_abi(\n",
    "        self\n",
    "    ) -> dict:\n",
    "        \"\"\"\n",
    "        Function to load the abi of the smart contract\n",
    "\n",
    "        Args:\n",
    "            path (str): The path to the abi file\n",
    "\n",
    "        Returns:    \n",
    "            dict: The abi of the smart contract\n",
    "        \"\"\"\n",
    "\n",
    "        with open(self.abi_path, \"r\", encoding=\"utf-8\") as f:\n",
    "            abi = json.load(f)\n",
    "\n",
    "        return abi\n",
    "\n",
    "    def _get_contract(\n",
    "        self\n",
    "    ) -> Any:\n",
    "        \"\"\"\n",
    "        Function to get the contract object\n",
    "\n",
    "        Returns:\n",
    "            Any: The contract object\n",
    "        \"\"\"\n",
    "        abi = self._load_abi()\n",
    "        contract = self.w3.eth.contract(address=self.contract_address, abi=abi)\n",
    "        return contract\n",
    "\n",
    "    def call_function(\n",
    "        self,\n",
    "        function_name: str,\n",
    "        block_identifier: int | str = \"latest\",\n",
    "        params: Optional[Any] = None,\n",
    "    ):\n",
    "        \"\"\"\n",
    "        Function to call a function from the smart contract\n",
    "\n",
    "        Args:\n",
    "            function_name (str): The name of the function to call\n",
    "            block_identifier (int | str, optional): The block number or \n",
    "                block hash to call the function at (default is 'latest').\n",
    "            params (Optional[Any], optional): The parameters to pass \n",
    "                to the function (default is None).\n",
    "        \n",
    "        Returns:\n",
    "            Any: The return value of the function\n",
    "        \"\"\"\n",
    "        contract = self._get_contract()\n",
    "        function = getattr(contract.functions, function_name)\n",
    "\n",
    "        return (\n",
    "            function().call(block_identifier=block_identifier)\n",
    "            if params is None\n",
    "            else function(*params).call(block_identifier=block_identifier)\n",
    "        )"
   ]
  },
  {
   "cell_type": "code",
   "execution_count": 6,
   "metadata": {},
   "outputs": [
    {
     "name": "stdout",
     "output_type": "stream",
     "text": [
      "9888552049779\n"
     ]
    }
   ],
   "source": [
    "ABIDIR = f\"{DATA}/abi.json\"\n",
    "contract = FunctionCaller(address, w3, ABIDIR)\n",
    "on_chain_data = contract.call_function(\"getReserves\")\n",
    "print(on_chain_data)"
   ]
  },
  {
   "cell_type": "markdown",
   "metadata": {},
   "source": [
    "This number is consistent with the data on the Compound website but in different notation.\n",
    "\n",
    "<img src=\"./fig/data.png\" width=\"1400\">"
   ]
  }
 ],
 "metadata": {
  "kernelspec": {
   "display_name": "venv",
   "language": "python",
   "name": "python3"
  },
  "language_info": {
   "codemirror_mode": {
    "name": "ipython",
    "version": 3
   },
   "file_extension": ".py",
   "mimetype": "text/x-python",
   "name": "python",
   "nbconvert_exporter": "python",
   "pygments_lexer": "ipython3",
   "version": "3.10.9"
  }
 },
 "nbformat": 4,
 "nbformat_minor": 2
}
